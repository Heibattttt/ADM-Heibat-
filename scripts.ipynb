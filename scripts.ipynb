{
 "cells": [
  {
   "cell_type": "markdown",
   "id": "5d1601ce",
   "metadata": {},
   "source": [
    "# Say \"Hello, World!\" With Python"
   ]
  },
  {
   "cell_type": "code",
   "execution_count": null,
   "id": "2cba5f2d",
   "metadata": {},
   "outputs": [],
   "source": [
    "if __name__ == '__main__':\n",
    "    print(\"Hello, World!\")\n"
   ]
  },
  {
   "cell_type": "markdown",
   "id": "54f55870",
   "metadata": {},
   "source": [
    "# Python If-Else"
   ]
  },
  {
   "cell_type": "code",
   "execution_count": null,
   "id": "0f44c158",
   "metadata": {},
   "outputs": [],
   "source": [
    "#!/bin/python3\n",
    "import math\n",
    "import os\n",
    "import random\n",
    "import re\n",
    "import sys\n",
    "\n",
    "if __name__ == '__main__':\n",
    "    n = int(input().strip())\n",
    "if n%2==1 :\n",
    "   print(\"Weird\")\n",
    "elif n%2==0 and n in range(2,5) :\n",
    "   print(\"Not Weird\")\n",
    "elif n%2==0 and n in range(6,21):\n",
    "   print(\"Weird\")\n",
    "elif n%2==0 and n>20:\n",
    "   print(\"Not Weird\")\n"
   ]
  },
  {
   "cell_type": "markdown",
   "id": "6fd2a33b",
   "metadata": {},
   "source": [
    "# Python: Division"
   ]
  },
  {
   "cell_type": "code",
   "execution_count": null,
   "id": "d0d27a11",
   "metadata": {},
   "outputs": [],
   "source": [
    "if __name__ == '__main__':\n",
    "    a = int(input())\n",
    "    b = int(input())\n",
    "    \n",
    "print(a//b)\n",
    "print(a/b)\n"
   ]
  },
  {
   "cell_type": "markdown",
   "id": "60af7fa2",
   "metadata": {},
   "source": [
    "# Arithmetic Operators"
   ]
  },
  {
   "cell_type": "code",
   "execution_count": null,
   "id": "ecdb16c4",
   "metadata": {},
   "outputs": [],
   "source": [
    "if __name__ == '__main__':\n",
    "    a = int(input())\n",
    "    b = int(input())\n",
    "    \n",
    "print (a+b)\n",
    "print (a-b)\n",
    "print (a*b)\n"
   ]
  },
  {
   "cell_type": "markdown",
   "id": "1ce78691",
   "metadata": {},
   "source": [
    "# Print Function"
   ]
  },
  {
   "cell_type": "code",
   "execution_count": null,
   "id": "06a0df5a",
   "metadata": {},
   "outputs": [],
   "source": [
    "if __name__ == '__main__':\n",
    "    n = int(input())\n",
    "for i in range (1,n+1) :\n",
    "    print (i,end=\"\")\n"
   ]
  },
  {
   "cell_type": "markdown",
   "id": "b24e6d99",
   "metadata": {},
   "source": [
    "# Loops"
   ]
  },
  {
   "cell_type": "code",
   "execution_count": null,
   "id": "b2390e97",
   "metadata": {},
   "outputs": [],
   "source": [
    "if __name__ == '__main__':\n",
    "    n = int(input())\n",
    "    \n",
    "i=0\n",
    "while(i<n):\n",
    "    print(pow(i,2))\n",
    "    i=i+1\n",
    "    \n"
   ]
  },
  {
   "cell_type": "markdown",
   "id": "d98fefe5",
   "metadata": {},
   "source": [
    "# Write a function"
   ]
  },
  {
   "cell_type": "code",
   "execution_count": null,
   "id": "3df0bb17",
   "metadata": {},
   "outputs": [],
   "source": [
    "def is_leap(year):\n",
    "    leap = False\n",
    "    if (year%4==0 and year%100!=0) or (year % 400==0):\n",
    "        leap=True\n",
    "    else:\n",
    "        leap=False\n",
    "    \n",
    "    \n",
    "    return leap\n"
   ]
  },
  {
   "cell_type": "markdown",
   "id": "9e0c8047",
   "metadata": {},
   "source": [
    "# Find the Runner-Up Score!"
   ]
  },
  {
   "cell_type": "code",
   "execution_count": null,
   "id": "3305478e",
   "metadata": {},
   "outputs": [],
   "source": [
    "if __name__ == '__main__':\n",
    "    n = int(input())\n",
    "    arr =map(int, input().split())\n",
    "scores=set(arr)\n",
    "sortscores =sorted(scores,reverse=True)\n",
    "print(sortscores[1])\n"
   ]
  },
  {
   "cell_type": "markdown",
   "id": "f7b85d61",
   "metadata": {},
   "source": [
    "# Lists"
   ]
  },
  {
   "cell_type": "code",
   "execution_count": null,
   "id": "80bd81bf",
   "metadata": {},
   "outputs": [],
   "source": [
    "if __name__ == '__main__':\n",
    "    N = int(input())\n",
    " \n",
    "my_list = []   \n",
    " \n",
    "for _ in range(N):\n",
    "    command = input().strip().split()\n",
    "    command_type = command[0]\n",
    "    if command_type == \"insert\":\n",
    "        i = int(command[1])\n",
    "        e = int(command[2])\n",
    "        my_list.insert(i, e)\n",
    "    elif command_type == \"print\":\n",
    "        print(my_list)\n",
    "    elif command_type == \"remove\":\n",
    "        e = int(command[1])\n",
    "        my_list.remove(e)\n",
    "    elif command_type == \"append\":\n",
    "        e = int(command[1])\n",
    "        my_list.append(e)\n",
    "    elif command_type == \"sort\":\n",
    "        my_list.sort()\n",
    "    elif command_type == \"pop\":\n",
    "        if my_list: \n",
    "            my_list.pop()\n",
    "    elif command_type == \"reverse\":\n",
    "        my_list.reverse()\n"
   ]
  },
  {
   "cell_type": "markdown",
   "id": "13433eda",
   "metadata": {},
   "source": [
    "# Tuples"
   ]
  },
  {
   "cell_type": "code",
   "execution_count": null,
   "id": "df68f808",
   "metadata": {},
   "outputs": [],
   "source": [
    "if __name__ == '__main__':\n",
    "    n = int(input())\n",
    "    integer_list = map(int, input().split())\n",
    "    \n",
    "numbers = tuple(integer_list)\n",
    "\n",
    "print(hash(numbers))\n"
   ]
  },
  {
   "cell_type": "markdown",
   "id": "1b1bd16e",
   "metadata": {},
   "source": [
    "# Finding the percentage"
   ]
  },
  {
   "cell_type": "code",
   "execution_count": null,
   "id": "11ef2f39",
   "metadata": {},
   "outputs": [],
   "source": [
    "if __name__ == '__main__':\n",
    "    n = int(input())\n",
    "    student_marks = {}\n",
    "    for _ in range(n):\n",
    "        name, *line = input().split()\n",
    "        scores = list(map(float, line))\n",
    "        student_marks[name] = scores\n",
    "    query_name = input()\n",
    "def get_average_marks(query_name, marks_dict):\n",
    "    if query_name in marks_dict:\n",
    "        marks = marks_dict[query_name]\n",
    "        average = sum(marks) / len(marks)\n",
    "        # Print the average with 2 decimal places\n",
    "        print(f\"{average:.2f}\")\n",
    "    else:\n",
    "        print(f\"Student {query_name} not found.\")\n",
    "\n",
    "get_average_marks(query_name, student_marks)\n"
   ]
  },
  {
   "cell_type": "markdown",
   "id": "4fca576f",
   "metadata": {},
   "source": [
    "# List Comprehensions"
   ]
  },
  {
   "cell_type": "code",
   "execution_count": null,
   "id": "66901d2a",
   "metadata": {},
   "outputs": [],
   "source": [
    "if __name__ == '__main__':\n",
    "    x = int(input())\n",
    "    y = int(input())\n",
    "    z = int(input())\n",
    "    n = int(input())\n",
    "    \n",
    "cordinates = [[i, j, k] for i in range(x + 1) \n",
    "                         for j in range(y + 1) \n",
    "                         for k in range(z + 1) \n",
    "                         if i + j + k != n]\n",
    "\n",
    "print(cordinates)\n"
   ]
  },
  {
   "cell_type": "markdown",
   "id": "5f2f45e1",
   "metadata": {},
   "source": [
    "# Nested Lists"
   ]
  },
  {
   "cell_type": "code",
   "execution_count": null,
   "id": "a0415f98",
   "metadata": {},
   "outputs": [],
   "source": [
    "if __name__ == '__main__':\n",
    "    students = [] \n",
    "    for _ in range(int(input())):\n",
    "        name = input()\n",
    "        score = float(input())\n",
    "        students.append([name, score])\n",
    "\n",
    "scores = sorted(list(set([score for name, score in students])))\n",
    "second_lowest_score = scores[1]\n",
    "second_lowest_students = sorted([name for name, score in students if score == second_lowest_score])\n",
    "for name in second_lowest_students:\n",
    "    print(name)\n"
   ]
  },
  {
   "cell_type": "markdown",
   "id": "7e612bb2",
   "metadata": {},
   "source": [
    "# sWAP cASE"
   ]
  },
  {
   "cell_type": "code",
   "execution_count": null,
   "id": "ff0052de",
   "metadata": {},
   "outputs": [],
   "source": [
    "def swap_case(s):\n",
    "    return s.swapcase()\n"
   ]
  },
  {
   "cell_type": "markdown",
   "id": "ac99bb8e",
   "metadata": {},
   "source": [
    "# What's Your Name?"
   ]
  },
  {
   "cell_type": "code",
   "execution_count": null,
   "id": "e7f4fd30",
   "metadata": {},
   "outputs": [],
   "source": [
    "#\n",
    "# Complete the 'print_full_name' function below.\n",
    "#\n",
    "# The function is expected to return a STRING.\n",
    "# The function accepts following parameters:\n",
    "#  1. STRING first\n",
    "#  2. STRING last\n",
    "#\n",
    "def print_full_name(first_name, last_name):\n",
    "    print(\"Hello \"+first_name +\" \"+ last_name+\"! You just delved into python.\")\n",
    "    # Write your code here\n"
   ]
  },
  {
   "cell_type": "markdown",
   "id": "7f4961ec",
   "metadata": {},
   "source": [
    "# Mutations"
   ]
  },
  {
   "cell_type": "code",
   "execution_count": null,
   "id": "dbeff51f",
   "metadata": {},
   "outputs": [],
   "source": [
    "def mutate_string(string, position, character):\n",
    "    strings =string[:position] + character + string [position+1: ]\n",
    "    return strings\n"
   ]
  },
  {
   "cell_type": "markdown",
   "id": "21ee2880",
   "metadata": {},
   "source": [
    "# Find a string"
   ]
  },
  {
   "cell_type": "code",
   "execution_count": null,
   "id": "786b0792",
   "metadata": {},
   "outputs": [],
   "source": [
    "def count_substring(string, sub_string):\n",
    "    num = 0\n",
    "    \n",
    "    for i in range(len(string) - len(sub_string) + 1):\n",
    "        if string[i:i + len(sub_string)] == sub_string:\n",
    "         num += 1\n",
    "     \n",
    "    return num\n",
    " \n"
   ]
  },
  {
   "cell_type": "markdown",
   "id": "a4fee3cc",
   "metadata": {},
   "source": [
    "# String Validators"
   ]
  },
  {
   "cell_type": "code",
   "execution_count": null,
   "id": "7117e36c",
   "metadata": {},
   "outputs": [],
   "source": [
    "if __name__ == '__main__':\n",
    "    s = input()\n",
    "print(any(char.isalnum() for char in s)) \n",
    "print(any(char.isalpha() for char in s)) \n",
    "print(any(char.isdigit() for char in s))  \n",
    "print(any(char.islower() for char in s))  \n",
    "print(any(char.isupper() for char in s))\n"
   ]
  },
  {
   "cell_type": "markdown",
   "id": "c855ec24",
   "metadata": {},
   "source": [
    "# Capitalize!"
   ]
  },
  {
   "cell_type": "code",
   "execution_count": null,
   "id": "14607ad0",
   "metadata": {},
   "outputs": [],
   "source": [
    "\n",
    "# Complete the solve function below.\n",
    "def solve(s):\n",
    "    \n",
    "          words = s.split()\n",
    "    \n",
    "    # Capitalize the first letter of each word and leave the rest of the word unchanged\n",
    "          capitalized_words = [word.capitalize() for word in words]\n",
    "    \n",
    "    # Join the capitalized words with a space and return the result\n",
    "          return ' '.join(capitalized_words)\n",
    "      \n"
   ]
  },
  {
   "cell_type": "markdown",
   "id": "f45b196a",
   "metadata": {},
   "source": [
    "# String Split and Join"
   ]
  },
  {
   "cell_type": "code",
   "execution_count": null,
   "id": "d8a2033c",
   "metadata": {},
   "outputs": [],
   "source": [
    "\n",
    "def split_and_join(line):\n",
    "    # write your code here\n",
    "    line=line.split(\" \")\n",
    "    return \"-\".join(line)\n",
    "if __name__ == '__main__':\n",
    "    line = input()\n",
    "    result = split_and_join(line)\n",
    "    print(result)\n"
   ]
  },
  {
   "cell_type": "markdown",
   "id": "6667c758",
   "metadata": {},
   "source": [
    "# Text Alignment"
   ]
  },
  {
   "cell_type": "code",
   "execution_count": null,
   "id": "68ff7b62",
   "metadata": {},
   "outputs": [],
   "source": [
    "# Enter your code here. Read input from STDIN. Print output to STDOUT\n",
    "# Input the thickness\n",
    "thickness = int(input())  # This must be an odd number\n",
    "c = 'H'\n",
    "# Top cone\n",
    "for i in range(thickness):\n",
    "    print((c * i).rjust(thickness - 1) + c + (c * i).ljust(thickness - 1))\n",
    "# Top pillars\n",
    "for i in range(thickness + 1):\n",
    "    print((c * thickness).center(thickness * 2) + (c * thickness).center(thickness * 6))\n",
    "# Middle belt\n",
    "for i in range((thickness + 1) // 2):\n",
    "    print((c * thickness * 5).center(thickness * 6))\n",
    "# Bottom pillars\n",
    "for i in range(thickness + 1):\n",
    "    print((c * thickness).center(thickness * 2) + (c * thickness).center(thickness * 6))\n",
    "# Bottom cone\n",
    "for i in range(thickness):\n",
    "    print(((c * (thickness - i - 1)).rjust(thickness) + c + (c * (thickness - i - 1)).ljust(thickness)).rjust(thickness * 6))\n"
   ]
  },
  {
   "cell_type": "markdown",
   "id": "571af0b7",
   "metadata": {},
   "source": [
    "# Text Wrap"
   ]
  },
  {
   "cell_type": "code",
   "execution_count": null,
   "id": "9cab7616",
   "metadata": {},
   "outputs": [],
   "source": [
    "\n",
    "def wrap(string, max_width):\n",
    "    return textwrap.fill(string, max_width)\n"
   ]
  },
  {
   "cell_type": "markdown",
   "id": "c33d741f",
   "metadata": {},
   "source": [
    "# Designer Door Mat"
   ]
  },
  {
   "cell_type": "code",
   "execution_count": null,
   "id": "b94bbeda",
   "metadata": {},
   "outputs": [],
   "source": [
    "# Enter your code here. Read input from STDIN. Print output to STDOUT\n",
    "def print_door_mat(n, m):\n",
    "    # Top part\n",
    "    for i in range(1, n, 2):\n",
    "        pattern = (\".|.\" * i).center(m, '-')\n",
    "        print(pattern)\n",
    "    \n",
    "    # Middle part (WELCOME)\n",
    "    print(\"WELCOME\".center(m, '-'))\n",
    "    \n",
    "    # Bottom part (mirror of the top)\n",
    "    for i in range(n-2, -1, -2):\n",
    "        pattern = (\".|.\" * i).center(m, '-')\n",
    "        print(pattern)\n",
    "# Input the dimensions N (odd number) and M (3 times N)\n",
    "N, M = map(int, input().split())\n",
    "# Call the function to print the mat design\n",
    "print_door_mat(N, M)\n"
   ]
  },
  {
   "cell_type": "markdown",
   "id": "9cda2965",
   "metadata": {},
   "source": [
    "# String Formatting"
   ]
  },
  {
   "cell_type": "code",
   "execution_count": null,
   "id": "7dfd455d",
   "metadata": {},
   "outputs": [],
   "source": [
    "def print_formatted(number):\n",
    "    # your code goes here\n",
    "     width = len(bin(number)) - 2  # bin(n) returns '0b...' so subtract 2 for '0b'\n",
    "    # Loop through each number from 1 to n\n",
    "     for i in range(1, number + 1):\n",
    "        # Print the four values with appropriate formatting and padding\n",
    "        print(str(i).rjust(width),        # Decimal\n",
    "              oct(i)[2:].rjust(width),    # Octal (strip '0o')\n",
    "              hex(i)[2:].upper().rjust(width),  # Hexadecimal (strip '0x' and capitalize)\n",
    "              bin(i)[2:].rjust(width))\n"
   ]
  },
  {
   "cell_type": "markdown",
   "id": "da80aa38",
   "metadata": {},
   "source": [
    "# Alphabet Rangoli"
   ]
  },
  {
   "cell_type": "code",
   "execution_count": null,
   "id": "32bb8b11",
   "metadata": {},
   "outputs": [],
   "source": [
    "import string \n",
    "def print_rangoli(size):\n",
    "    # your code goes here\n",
    "    alpha = string.ascii_lowercase\n",
    "   \n",
    "    lines = []\n",
    "    for i in range(size):\n",
    "        s = '-'.join(alpha[size-1:i:-1] + alpha[i:size])\n",
    "        \n",
    "        lines.append(s.center(4*size-3, '-'))\n",
    "    \n",
    "    print('\\n'.join(lines[::-1] + lines[1:]))\n"
   ]
  },
  {
   "cell_type": "markdown",
   "id": "ce18a0b3",
   "metadata": {},
   "source": [
    "# Merge the Tools!"
   ]
  },
  {
   "cell_type": "code",
   "execution_count": null,
   "id": "839dfcf3",
   "metadata": {},
   "outputs": [],
   "source": [
    "def merge_the_tools(string, k):\n",
    "    # your code goes here\n",
    "    for i in range(0, len(string), k):\n",
    "        # Get the substring of length 'k'\n",
    "        substring = string[i:i+k]\n",
    "        \n",
    "        # Initialize an empty result string for unique characters\n",
    "        unique_chars = \"\"\n",
    "        \n",
    "        # Iterate over each character in the substring\n",
    "        for char in substring:\n",
    "            # Add the character if it'string not already in the result string\n",
    "            if char not in unique_chars:\n",
    "                unique_chars += char\n",
    "        \n",
    "        # Print the result string for the current substring\n",
    "        print(unique_chars)\n"
   ]
  },
  {
   "cell_type": "markdown",
   "id": "5aba0d12",
   "metadata": {},
   "source": [
    "# The Minion Game"
   ]
  },
  {
   "cell_type": "code",
   "execution_count": null,
   "id": "f3d50cdb",
   "metadata": {},
   "outputs": [],
   "source": [
    "def minion_game(string):\n",
    "    # your code goes here\n",
    "    vowels = \"AEIOU\"\n",
    "    stuart_score = 0\n",
    "    kevin_score = 0\n",
    "    n = len(string)\n",
    "    \n",
    "    # Loop through each character in the string\n",
    "    for i in range(n):\n",
    "        if string[i] in vowels:\n",
    "            # Kevin's turn (vowel)\n",
    "            kevin_score += (n - i)\n",
    "        else:\n",
    "            # Stuart's turn (consonant)\n",
    "            stuart_score += (n - i)\n",
    "    \n",
    "    # Determine the winner\n",
    "    if stuart_score > kevin_score:\n",
    "        print(\"Stuart\", stuart_score)\n",
    "    elif kevin_score > stuart_score:\n",
    "        print(\"Kevin\", kevin_score)\n",
    "    else:\n",
    "        print(\"Draw\")\n"
   ]
  },
  {
   "cell_type": "markdown",
   "id": "2e34bef2",
   "metadata": {},
   "source": [
    "# Map and Lambda Function"
   ]
  },
  {
   "cell_type": "code",
   "execution_count": null,
   "id": "7215195b",
   "metadata": {},
   "outputs": [],
   "source": [
    "cube = lambda x: x ** 3\n",
    "def fibonacci(n):\n",
    "    \"\"\"Generate a list of the first n Fibonacci numbers.\"\"\"\n",
    "    fibonacci_numbers = []\n",
    "    a, b = 0, 1  # Starting values for Fibonacci\n",
    "    for _ in range(n):\n",
    "        fibonacci_numbers.append(a)  # Append the current Fibonacci number\n",
    "        a, b = b, a + b  # Update to the next Fibonacci number\n",
    "    return fibonacci_numbers\n",
    "\n"
   ]
  },
  {
   "cell_type": "markdown",
   "id": "7f6c72d8",
   "metadata": {},
   "source": [
    "# Exceptions"
   ]
  },
  {
   "cell_type": "code",
   "execution_count": null,
   "id": "0f038cea",
   "metadata": {},
   "outputs": [],
   "source": [
    "# Enter your code here. Read input from STDIN. Print output to STDOUT\n",
    "numb = int(input())\n",
    "# Loop through each test case\n",
    "for _ in range(numb):\n",
    "    try:\n",
    "    \n",
    "        a, b = map(int, input().split())\n",
    "        \n",
    "      \n",
    "        result = a // b\n",
    "        \n",
    "        # Print the result\n",
    "        print(result)\n",
    "        \n",
    "    except ZeroDivisionError as e:\n",
    "        print(\"Error Code:\", e)  \n",
    "    except ValueError as e:\n",
    "        print(\"Error Code:\", e)  \n"
   ]
  },
  {
   "cell_type": "markdown",
   "id": "5591573f",
   "metadata": {},
   "source": [
    "# Calendar Module"
   ]
  },
  {
   "cell_type": "code",
   "execution_count": null,
   "id": "0dc90d78",
   "metadata": {},
   "outputs": [],
   "source": [
    "# Enter your code here. Read input from STDIN. Print output to STDOUT\n",
    "import datetime\n",
    "date_input = input().strip()\n",
    "month, day, year = map(int, date_input.split())\n",
    "\n",
    "date_obj = datetime.date(year, month, day)\n",
    "day_of_week = date_obj.strftime(\"%A\").upper()\n",
    "\n",
    "print(day_of_week)\n"
   ]
  },
  {
   "cell_type": "markdown",
   "id": "9d4b613f",
   "metadata": {},
   "source": [
    "# Time Delta"
   ]
  },
  {
   "cell_type": "code",
   "execution_count": null,
   "id": "e2e7ffe5",
   "metadata": {},
   "outputs": [],
   "source": [
    "#!/bin/python3\n",
    "import math\n",
    "import os\n",
    "import random\n",
    "import re\n",
    "import sys\n",
    "from datetime import datetime\n",
    "# Complete the time_delta function below.\n",
    "def time_delta(t1, t2):\n",
    "     timestamp_format = \"%a %d %b %Y %H:%M:%S %z\"\n",
    "   \n",
    "     dt1 = datetime.strptime(t1, timestamp_format)\n",
    "     dt2 = datetime.strptime(t2, timestamp_format)\n",
    "    \n",
    "     return str(int(abs((dt1 - dt2).total_seconds())))\n",
    "if __name__ == '__main__':\n",
    "    fptr = open(os.environ['OUTPUT_PATH'], 'w')\n",
    "    t = int(input())\n",
    "    for t_itr in range(t):\n",
    "        t1 = input()\n",
    "        t2 = input()\n",
    "        delta = time_delta(t1, t2)\n",
    "        fptr.write(delta + '\\n')\n",
    "    fptr.close()\n"
   ]
  },
  {
   "cell_type": "markdown",
   "id": "93657716",
   "metadata": {},
   "source": [
    "# collections.Counter()"
   ]
  },
  {
   "cell_type": "code",
   "execution_count": null,
   "id": "614a0243",
   "metadata": {},
   "outputs": [],
   "source": [
    "# Enter your code here. Read input from STDIN. Print output to STDOUT\n",
    "if __name__ == \"__main__\":\n",
    "    # Read the number of shoes\n",
    "    n = int(input())\n",
    "    \n",
    "    # Read the space-separated list of shoe sizes\n",
    "    shoe_sizes = list(map(int, input().split()))\n",
    "    \n",
    "    # Create a dictionary to count available shoes of each size\n",
    "    shoe_inventory = {}\n",
    "    for size in shoe_sizes:\n",
    "        if size in shoe_inventory:\n",
    "            shoe_inventory[size] += 1\n",
    "        else:\n",
    "            shoe_inventory[size] = 1\n",
    "            \n",
    "    # Read the number of customers\n",
    "    num_customers = int(input())\n",
    "    \n",
    "    # Initialize total earnings\n",
    "    total_earnings = 0\n",
    "    \n",
    "    # Process each customer\n",
    "    for _ in range(num_customers):\n",
    "        # Read the desired size and price\n",
    "        size, price = map(int, input().split())\n",
    "        \n",
    "        # Check if the desired size is available in the inventory\n",
    "        if size in shoe_inventory and shoe_inventory[size] > 0:\n",
    "            total_earnings += price  # Add the price to total earnings\n",
    "            shoe_inventory[size] -= 1  # Decrease the count of available shoes\n",
    "    \n",
    "    # Print the total earnings\n",
    "    print(total_earnings)\n"
   ]
  },
  {
   "cell_type": "markdown",
   "id": "6a4a9195",
   "metadata": {},
   "source": [
    "# DefaultDict Tutorial"
   ]
  },
  {
   "cell_type": "code",
   "execution_count": null,
   "id": "6feea365",
   "metadata": {},
   "outputs": [],
   "source": [
    "from collections import defaultdict\n",
    "# Step 1: Read n and m\n",
    "n, m = map(int, input().strip().split())\n",
    "# Step 2: Create a defaultdict to hold lists of indices\n",
    "group_a_indices = defaultdict(list)\n",
    "# Step 3: Read words in Group A and store their indices\n",
    "for index in range(1, n + 1):\n",
    "    word = input().strip()\n",
    "    group_a_indices[word].append(index)\n",
    "# Step 4: For each word in Group B, check its occurrence in Group A\n",
    "for _ in range(m):\n",
    "    word = input().strip()\n",
    "    if word in group_a_indices:\n",
    "        # Print indices if the word exists in Group A\n",
    "        print(\" \".join(map(str, group_a_indices[word])))\n",
    "    else:\n",
    "        # Print -1 if the word does not exist in Group A\n",
    "        print(-1)\n"
   ]
  },
  {
   "cell_type": "markdown",
   "id": "3528d15f",
   "metadata": {},
   "source": [
    "# Collections.namedtuple()"
   ]
  },
  {
   "cell_type": "code",
   "execution_count": null,
   "id": "3a0c0152",
   "metadata": {},
   "outputs": [],
   "source": [
    "# Enter your code here. Read input from STDIN. Print output to STDOUT\n",
    "from collections import namedtuple\n",
    "# Step 1: Read the number of students\n",
    "n = int(input().strip())\n",
    "# Step 2: Read the column names\n",
    "columns = input().strip().split()\n",
    "# Step 3: Create a named tuple with the specified column names\n",
    "Student = namedtuple('Student', columns)\n",
    "# Step 4: Initialize a variable to accumulate the marks\n",
    "total_marks = 0\n",
    "# Step 5: Read each student's data and accumulate the marks\n",
    "for _ in range(n):\n",
    "    student_data = input().strip().split()\n",
    "    student = Student(*student_data)  # Unpack the data into the named tuple\n",
    "    total_marks += int(student.MARKS)  # Add the marks to total_marks\n",
    "# Step 6: Calculate the average marks\n",
    "average_marks = total_marks / n\n",
    "# Step 7: Print the average marks rounded to 2 decimal places\n",
    "print(f\"{average_marks:.2f}\")\n"
   ]
  },
  {
   "cell_type": "markdown",
   "id": "61255c3a",
   "metadata": {},
   "source": [
    "# Collections.OrderedDict()"
   ]
  },
  {
   "cell_type": "code",
   "execution_count": null,
   "id": "029ddfd4",
   "metadata": {},
   "outputs": [],
   "source": [
    "# Enter your code here. Read input from STDIN. Print output to STDOUT\n",
    "from collections import OrderedDict\n",
    "# Step 1: Read the number of items\n",
    "n = int(input().strip())\n",
    "# Step 2: Create an OrderedDict to store items and their net prices\n",
    "item_prices = OrderedDict()\n",
    "# Step 3: Process each item\n",
    "for _ in range(n):\n",
    "    # Read the line, split by space and extract item name and price\n",
    "    item = input().strip().rsplit(' ', 1)\n",
    "    item_name = item[0]\n",
    "    price = int(item[1])\n",
    "    \n",
    "    # If the item already exists in the dictionary, add the price to its current total\n",
    "    if item_name in item_prices:\n",
    "        item_prices[item_name] += price\n",
    "    else:\n",
    "        item_prices[item_name] = price  # Initialize with the price if it's the first occurrence\n",
    "# Step 4: Print the item names and their net prices\n",
    "for item_name, net_price in item_prices.items():\n",
    "    print(f\"{item_name} {net_price}\")\n"
   ]
  },
  {
   "cell_type": "markdown",
   "id": "6b57eef6",
   "metadata": {},
   "source": [
    "# Word Order"
   ]
  },
  {
   "cell_type": "code",
   "execution_count": null,
   "id": "9e375259",
   "metadata": {},
   "outputs": [],
   "source": [
    "# Enter your code here. Read input from STDIN. Print output to STDOUT\n",
    "# Step 1: Read the number of words\n",
    "n = int(input().strip())\n",
    "# Step 2: Initialize a list for unique words and a dictionary for counting occurrences\n",
    "unique_words = []\n",
    "word_count = {}\n",
    "# Step 3: Read each word and count occurrences\n",
    "for _ in range(n):\n",
    "    word = input().strip()\n",
    "    \n",
    "    # Update the dictionary\n",
    "    if word in word_count:\n",
    "        word_count[word] += 1\n",
    "    else:\n",
    "        word_count[word] = 1\n",
    "        unique_words.append(word)  # Add to unique_words list only if it's the first occurrence\n",
    "# Step 4: Output the number of distinct words\n",
    "print(len(unique_words))\n",
    "# Step 5: Output the occurrences of each unique word\n",
    "print(\" \".join(str(word_count[word]) for word in unique_words))\n"
   ]
  },
  {
   "cell_type": "markdown",
   "id": "94b70025",
   "metadata": {},
   "source": [
    "# Collections.deque()"
   ]
  },
  {
   "cell_type": "code",
   "execution_count": null,
   "id": "dac27818",
   "metadata": {},
   "outputs": [],
   "source": [
    "# Enter your code here. Read input from STDIN. Print output to STDOUT\n",
    "from collections import deque\n",
    "# Step 1: Initialize the deque\n",
    "d = deque()\n",
    "# Step 2: Read the number of operations\n",
    "n = int(input().strip())\n",
    "# Step 3: Perform operations\n",
    "for _ in range(n):\n",
    "    operation = input().strip().split()  # Read operation and its parameters\n",
    "    command = operation[0]  # The method name\n",
    "    if command == 'append':\n",
    "        d.append(int(operation[1]))  # Append an element to the right\n",
    "    elif command == 'appendleft':\n",
    "        d.appendleft(int(operation[1]))  # Append an element to the left\n",
    "    elif command == 'pop':\n",
    "        d.pop()  # Remove an element from the right\n",
    "    elif command == 'popleft':\n",
    "        d.popleft()  # Remove an element from the left\n",
    "# Step 4: Output the final elements of the deque\n",
    "print(\" \".join(map(str, d)))\n"
   ]
  },
  {
   "cell_type": "markdown",
   "id": "d80e152c",
   "metadata": {},
   "source": [
    "# Company Logo"
   ]
  },
  {
   "cell_type": "code",
   "execution_count": null,
   "id": "9d279289",
   "metadata": {},
   "outputs": [],
   "source": [
    "#!/bin/python3\n",
    "import math\n",
    "import os\n",
    "import random\n",
    "import re\n",
    "import sys\n",
    "from collections import Counter\n",
    "\n",
    "if __name__ == '__main__':\n",
    "        s = input().strip()\n",
    "# Step 2: Count the occurrences of each character\n",
    "counter = Counter(s)\n",
    "# Step 3: Sort the characters by their occurrence count and alphabetically\n",
    "# First by count in descending order, then alphabetically\n",
    "sorted_chars = sorted(counter.items(), key=lambda x: (-x[1], x[0]))\n",
    "# Step 4: Print the top three characters and their counts\n",
    "for i in range(min(3, len(sorted_chars))):  # Ensure we don't exceed the available characters\n",
    "    char, count = sorted_chars[i]\n",
    "    print(char, count)\n"
   ]
  },
  {
   "cell_type": "markdown",
   "id": "567ca04d",
   "metadata": {},
   "source": [
    "# Piling Up!"
   ]
  },
  {
   "cell_type": "code",
   "execution_count": null,
   "id": "2cd62b0f",
   "metadata": {},
   "outputs": [],
   "source": [
    "# Enter your code here. Read input from STDIN. Print output to STDOUT\n",
    "def can_stack_cubes(test_cases):\n",
    "    results = []\n",
    "    \n",
    "    for _ in range(test_cases):\n",
    "        n = int(input())  # Read the number of cubes\n",
    "        cubes = list(map(int, input().split()))  # Read the lengths of the cubes\n",
    "        # Initialize left and right pointers\n",
    "        left = 0\n",
    "        right = n - 1\n",
    "        last_cube = float('inf')  # Start with a very large value\n",
    "        \n",
    "        possible = True\n",
    "        \n",
    "        while left <= right:\n",
    "            # Select the larger of the two ends\n",
    "            if cubes[left] >= cubes[right]:\n",
    "                current_cube = cubes[left]\n",
    "                left += 1\n",
    "            else:\n",
    "                current_cube = cubes[right]\n",
    "                right -= 1\n",
    "            \n",
    "            # Check if the current cube can be placed on top of the last cube\n",
    "            if current_cube > last_cube:\n",
    "                possible = False\n",
    "                break\n",
    "            last_cube = current_cube  # Update the last placed cube\n",
    "        results.append(\"Yes\" if possible else \"No\")\n",
    "    \n",
    "    return results\n",
    "\n",
    "# Input handling\n",
    "if __name__ == \"__main__\":\n",
    "    t = int(input())  # Number of test cases\n",
    "    results = can_stack_cubes(t)\n",
    "    for result in results:\n",
    "        print(result)\n"
   ]
  },
  {
   "cell_type": "markdown",
   "id": "b0e74c46",
   "metadata": {},
   "source": [
    "# Check Strict Superset"
   ]
  },
  {
   "cell_type": "code",
   "execution_count": null,
   "id": "489e8a6b",
   "metadata": {},
   "outputs": [],
   "source": [
    "# Enter your code here. Read input from STDIN. Print output to STDOUT\n",
    "# Read the first line to create set A\n",
    "A = set(input().split())\n",
    "# Read the number of other sets\n",
    "n = int(input())\n",
    "# Initialize a flag to check if A is a strict superset of all other sets\n",
    "is_strict_superset = True\n",
    "# Loop through each of the other sets\n",
    "for _ in range(n):\n",
    "    # Read the current set and convert it to a set\n",
    "    current_set = set(input().split())\n",
    "    \n",
    "    # Check if A is a strict superset of current_set\n",
    "    if not (A > current_set):  # A must be a strict superset\n",
    "        is_strict_superset = False\n",
    "        break\n",
    "# Print the result\n",
    "print(is_strict_superset)\n"
   ]
  },
  {
   "cell_type": "markdown",
   "id": "85617a1e",
   "metadata": {},
   "source": [
    "# Introduction to Sets"
   ]
  },
  {
   "cell_type": "code",
   "execution_count": null,
   "id": "93f07fd6",
   "metadata": {},
   "outputs": [],
   "source": [
    "def average(array):\n",
    "    # your code goes here\n",
    "   \n",
    "    distinct_heights = set(array)\n",
    "    \n",
    "    # Calculate the average of distinct heights\n",
    "    avg = sum(distinct_heights) / len(distinct_heights)\n",
    "    \n",
    "    # Return the average rounded to three decimal places\n",
    "    return round(avg, 3)\n",
    "\n"
   ]
  },
  {
   "cell_type": "markdown",
   "id": "d8bb5401",
   "metadata": {},
   "source": [
    "# No Idea!"
   ]
  },
  {
   "cell_type": "code",
   "execution_count": null,
   "id": "d3686ae4",
   "metadata": {},
   "outputs": [],
   "source": [
    "# Enter your code here. Read input from STDIN. Print output to STDOUT\n",
    "def calculate_happiness(n, m, array, A, B):\n",
    "    # Initialize happiness\n",
    "    happiness = 0\n",
    "    \n",
    "    # Convert A and B to sets for O(1) average time complexity on membership checks\n",
    "    set_A = set(A)\n",
    "    set_B = set(B)\n",
    "    \n",
    "    # Calculate happiness based on the array\n",
    "    for number in array:\n",
    "        if number in set_A:\n",
    "            happiness += 1  # Liked\n",
    "        elif number in set_B:\n",
    "            happiness -= 1  # Disliked\n",
    "    return happiness\n",
    "if __name__ == '__main__':\n",
    "    # Read the first line of input\n",
    "    n, m = map(int, input().split())\n",
    "    \n",
    "    # Read the array of integers\n",
    "    array = list(map(int, input().split()))\n",
    "    \n",
    "    # Read the liked integers (set A)\n",
    "    A = list(map(int, input().split()))\n",
    "    \n",
    "    # Read the disliked integers (set B)\n",
    "    B = list(map(int, input().split()))\n",
    "    \n",
    "    # Calculate and print the final happiness\n",
    "    result = calculate_happiness(n, m, array, A, B)\n",
    "    print(result)\n"
   ]
  },
  {
   "cell_type": "markdown",
   "id": "90e361d8",
   "metadata": {},
   "source": [
    "# Symmetric Difference"
   ]
  },
  {
   "cell_type": "code",
   "execution_count": null,
   "id": "8b27141c",
   "metadata": {},
   "outputs": [],
   "source": [
    "# Enter your code here. Read input from STDIN. Print output to STDOUT\n",
    "# Read the size of set a\n",
    "m = int(input())\n",
    "# Read the elements of set a and create a set\n",
    "a = set(map(int, input().split()))\n",
    "# Read the size of set b\n",
    "n = int(input())\n",
    "# Read the elements of set b and create a set\n",
    "b = set(map(int, input().split()))\n",
    "# Calculate the symmetric difference\n",
    "symmetric_difference = a.symmetric_difference(b)\n",
    "# Sort the result and print each element\n",
    "for value in sorted(symmetric_difference):\n",
    "    print(value)\n"
   ]
  },
  {
   "cell_type": "markdown",
   "id": "47cd2169",
   "metadata": {},
   "source": [
    "# Set .add()"
   ]
  },
  {
   "cell_type": "code",
   "execution_count": null,
   "id": "f0e91fc4",
   "metadata": {},
   "outputs": [],
   "source": [
    "# Enter your code here. Read input from STDIN. Print output to STDOUT\n",
    "# Read the total number of country stamps\n",
    "n = int(input())\n",
    "# Initialize an empty set to store distinct country names\n",
    "country_stamps = set()\n",
    "# Loop through the number of stamps and add each to the set\n",
    "for _ in range(n):\n",
    "    country = input().strip()  # Read country name and remove any leading/trailing whitespace\n",
    "    country_stamps.add(country) # Add the country to the set\n",
    "# Output the number of distinct country stamps\n",
    "print(len(country_stamps))\n"
   ]
  },
  {
   "cell_type": "markdown",
   "id": "ef193c27",
   "metadata": {},
   "source": [
    "# Set .discard(), .remove() & .pop()"
   ]
  },
  {
   "cell_type": "code",
   "execution_count": null,
   "id": "238e2af8",
   "metadata": {},
   "outputs": [],
   "source": [
    "\n",
    "# Read the number of elements in the set\n",
    "n = int(input())\n",
    "# Read the elements of the set and create the set\n",
    "elements = map(int, input().split())\n",
    "s = set(elements)\n",
    "# Read the number of commands\n",
    "m = int(input())\n",
    "# Execute the commands\n",
    "for _ in range(m):\n",
    "    command = input().split()\n",
    "    action = command[0]\n",
    "    \n",
    "    if action == \"pop\":\n",
    "        s.pop()  # Removes and returns an arbitrary element\n",
    "    elif action == \"remove\":\n",
    "        value = int(command[1])\n",
    "        s.remove(value)  # Removes the specified element\n",
    "    elif action == \"discard\":\n",
    "        value = int(command[1])\n",
    "        s.discard(value)  # Removes the specified element if it exists\n",
    "# Print the sum of the remaining elements in the set\n",
    "print(sum(s))\n"
   ]
  },
  {
   "cell_type": "markdown",
   "id": "e2da6374",
   "metadata": {},
   "source": [
    "# Set .union() Operation"
   ]
  },
  {
   "cell_type": "code",
   "execution_count": null,
   "id": "e8c171b1",
   "metadata": {},
   "outputs": [],
   "source": [
    "# Enter your code here. Read input from STDIN. Print output to STDOUT\n",
    "# Read the number of students subscribed to the English newspaper\n",
    "n_english = int(input())\n",
    "# Read the roll numbers of students subscribed to the English newspaper\n",
    "english_students = set(map(int, input().split()))\n",
    "# Read the number of students subscribed to the French newspaper\n",
    "n_french = int(input())\n",
    "# Read the roll numbers of students subscribed to the French newspaper\n",
    "french_students = set(map(int, input().split()))\n",
    "# Find the union of both sets\n",
    "all_subscribers = english_students.union(french_students)\n",
    "# Print the total number of unique students\n",
    "print(len(all_subscribers))\n"
   ]
  },
  {
   "cell_type": "markdown",
   "id": "3a197551",
   "metadata": {},
   "source": [
    "# Set .intersection() Operation"
   ]
  },
  {
   "cell_type": "code",
   "execution_count": null,
   "id": "01fef411",
   "metadata": {},
   "outputs": [],
   "source": [
    "# Enter your code here. Read input from STDIN. Print output to STDOUT\n",
    "# Read the number of students subscribed to the English newspaper\n",
    "n_english = int(input())\n",
    "# Read the roll numbers of students subscribed to the English newspaper\n",
    "english_students = set(map(int, input().split()))\n",
    "# Read the number of students subscribed to the French newspaper\n",
    "n_french = int(input())\n",
    "# Read the roll numbers of students subscribed to the French newspaper\n",
    "french_students = set(map(int, input().split()))\n",
    "# Find the intersection of both sets\n",
    "common_subscribers = english_students.intersection(french_students)\n",
    "# Print the total number of students who subscribed to both newspapers\n",
    "print(len(common_subscribers))\n"
   ]
  },
  {
   "cell_type": "markdown",
   "id": "1bd5205a",
   "metadata": {},
   "source": [
    "# Set .difference() Operation"
   ]
  },
  {
   "cell_type": "code",
   "execution_count": null,
   "id": "92c20808",
   "metadata": {},
   "outputs": [],
   "source": [
    "# Enter your code here. Read input from STDIN. Print output to STDOUT\n",
    "# Read the number of students subscribed to the English newspaper\n",
    "n_english = int(input())\n",
    "# Read the roll numbers of students subscribed to the English newspaper\n",
    "english_students = set(map(int, input().split()))\n",
    "# Read the number of students subscribed to the French newspaper\n",
    "n_french = int(input())\n",
    "# Read the roll numbers of students subscribed to the French newspaper\n",
    "french_students = set(map(int, input().split()))\n",
    "# Find the difference: students who are only in the English set\n",
    "only_english_subscribers = english_students.difference(french_students)\n",
    "# Print the total number of students who are subscribed only to the English newspaper\n",
    "print(len(only_english_subscribers))\n"
   ]
  },
  {
   "cell_type": "markdown",
   "id": "568e5441",
   "metadata": {},
   "source": [
    "# Set .symmetric_difference() Operation"
   ]
  },
  {
   "cell_type": "code",
   "execution_count": null,
   "id": "b329337d",
   "metadata": {},
   "outputs": [],
   "source": [
    "# Enter your code here. Read input from STDIN. Print output to STDOUT\n",
    "# Read the number of students subscribed to the English newspaper\n",
    "n_english = int(input())\n",
    "# Read the roll numbers of students subscribed to the English newspaper\n",
    "english_students = set(map(int, input().split()))\n",
    "# Read the number of students subscribed to the French newspaper\n",
    "n_french = int(input())\n",
    "# Read the roll numbers of students subscribed to the French newspaper\n",
    "french_students = set(map(int, input().split()))\n",
    "# Find the symmetric difference: students who are in either set but not both\n",
    "either_but_not_both = english_students.symmetric_difference(french_students)\n",
    "# Print the total number of students who are subscribed to either newspaper but not both\n",
    "print(len(either_but_not_both))\n"
   ]
  },
  {
   "cell_type": "markdown",
   "id": "ff93b12f",
   "metadata": {},
   "source": [
    "# Set Mutations"
   ]
  },
  {
   "cell_type": "code",
   "execution_count": null,
   "id": "d4ff800c",
   "metadata": {},
   "outputs": [],
   "source": [
    "# Enter your code here. Read input from STDIN. Print output to STDOUT\n",
    "# Read the number of elements in the initial set\n",
    "n = int(input())\n",
    "# Read the elements of the initial set\n",
    "initial_set = set(map(int, input().split()))\n",
    "# Read the number of other sets/operations\n",
    "m = int(input())\n",
    "# Perform operations\n",
    "for _ in range(m):\n",
    "    # Read operation and length (length is not used)\n",
    "    operation_info = input().split()\n",
    "    operation_name = operation_info[0]\n",
    "    length = int(operation_info[1])  # Read length (not used)\n",
    "    # Read elements of the other set\n",
    "    other_set = set(map(int, input().split()))\n",
    "    # Perform the specified operation\n",
    "    if operation_name == \"update\":\n",
    "        initial_set.update(other_set)\n",
    "    elif operation_name == \"intersection_update\":\n",
    "        initial_set.intersection_update(other_set)\n",
    "    elif operation_name == \"difference_update\":\n",
    "        initial_set.difference_update(other_set)\n",
    "    elif operation_name == \"symmetric_difference_update\":\n",
    "        initial_set.symmetric_difference_update(other_set)\n",
    "# Calculate the sum of the elements in the final set\n",
    "result = sum(initial_set)\n",
    "# Output the result\n",
    "print(result)\n"
   ]
  },
  {
   "cell_type": "markdown",
   "id": "392c0528",
   "metadata": {},
   "source": [
    "# The Captain's Room"
   ]
  },
  {
   "cell_type": "code",
   "execution_count": null,
   "id": "11cf82bc",
   "metadata": {},
   "outputs": [],
   "source": [
    "# Enter your code here. Read input from STDIN. Print output to STDOUT\n",
    "from collections import Counter\n",
    "# Read the group size\n",
    "group_size = int(input())\n",
    "# Read the room numbers into a list\n",
    "room_numbers = list(map(int, input().split()))\n",
    "# Count occurrences of each room number\n",
    "room_count = Counter(room_numbers)\n",
    "# Find the Captain's room number (the one that appears exactly once)\n",
    "for room, count in room_count.items():\n",
    "    if count == 1:\n",
    "        captain_room = room\n",
    "        break\n",
    "# Output the Captain's room number\n",
    "print(captain_room)\n"
   ]
  },
  {
   "cell_type": "markdown",
   "id": "26630ba8",
   "metadata": {},
   "source": [
    "# Check Subset"
   ]
  },
  {
   "cell_type": "code",
   "execution_count": null,
   "id": "932cb4cb",
   "metadata": {},
   "outputs": [],
   "source": [
    "# Enter your code here. Read input from STDIN. Print output to STDOUT\n",
    "# Read the number of test cases\n",
    "n = int(input())\n",
    "for _ in range(n):\n",
    "    # Read set A\n",
    "    size_A = int(input())\n",
    "    A = set(map(int, input().split()))\n",
    "    \n",
    "    # Read set B\n",
    "    size_B = int(input())\n",
    "    B = set(map(int, input().split()))\n",
    "    \n",
    "    # Check if A is a subset of B and print the result\n",
    "    print(A.issubset(B))\n"
   ]
  },
  {
   "cell_type": "markdown",
   "id": "2d400724",
   "metadata": {},
   "source": [
    "# Zipped!"
   ]
  },
  {
   "cell_type": "code",
   "execution_count": null,
   "id": "aa1f0e5d",
   "metadata": {},
   "outputs": [],
   "source": [
    "# Enter your code here. Read input from STDIN. Print output to STDOUT\n",
    "# Read the number of students and subjects\n",
    "n, m = map(int, input().split())\n",
    "# Initialize a list to hold marks for each subject\n",
    "marks = []\n",
    "# Read the marks for each subject\n",
    "for _ in range(m):\n",
    "    subject_marks = list(map(float, input().split()))\n",
    "    marks.append(subject_marks)\n",
    "# Transpose the marks to get marks per student\n",
    "student_marks = zip(*marks)\n",
    "# Calculate and print the average for each student\n",
    "for scores in student_marks:\n",
    "    average = sum(scores) / m\n",
    "    print(f\"{average:.1f}\")\n"
   ]
  },
  {
   "cell_type": "markdown",
   "id": "6f5350c8",
   "metadata": {},
   "source": [
    "# ginortS"
   ]
  },
  {
   "cell_type": "code",
   "execution_count": null,
   "id": "1105d972",
   "metadata": {},
   "outputs": [],
   "source": [
    "# Enter your code here. Read input from STDIN. Print output to STDOUT\n",
    "def custom_sort(s):\n",
    "    # Separate characters into categories\n",
    "    lower = sorted([char for char in s if char.islower()])  # All lowercase letters\n",
    "    upper = sorted([char for char in s if char.isupper()])  # All uppercase letters\n",
    "    odd_digits = sorted([char for char in s if char.isdigit() and int(char) % 2 != 0])  # Odd digits\n",
    "    even_digits = sorted([char for char in s if char.isdigit() and int(char) % 2 == 0])  # Even digits\n",
    "    \n",
    "    # Combine all sorted characters\n",
    "    sorted_string = ''.join(lower + upper + odd_digits + even_digits)\n",
    "    return sorted_string\n",
    "# Input string\n",
    "input_string = input()\n",
    "# Get the sorted result\n",
    "result = custom_sort(input_string)\n",
    "# Print the sorted string\n",
    "print(result)\n"
   ]
  },
  {
   "cell_type": "markdown",
   "id": "89de3987",
   "metadata": {},
   "source": [
    "# Athlete Sort"
   ]
  },
  {
   "cell_type": "code",
   "execution_count": null,
   "id": "d86ebc9d",
   "metadata": {},
   "outputs": [],
   "source": [
    "#!/bin/python3\n",
    "import math\n",
    "import os\n",
    "import random\n",
    "import re\n",
    "import sys\n",
    "\n",
    "if __name__ == '__main__':\n",
    "    nm = input().split()\n",
    "    n = int(nm[0])\n",
    "    m = int(nm[1])\n",
    "    arr = []\n",
    "    for _ in range(n):\n",
    "        arr.append(list(map(int, input().rstrip().split())))\n",
    "    k = int(input())\n",
    "    sorted_athletes = sorted(arr, key=lambda x: x[k])\n",
    "# Output the sorted results\n",
    "for arr in sorted_athletes:\n",
    "    print(' '.join(map(str,arr)))\n"
   ]
  },
  {
   "cell_type": "markdown",
   "id": "aea2ed3e",
   "metadata": {},
   "source": [
    "# Detect Floating Point Number"
   ]
  },
  {
   "cell_type": "code",
   "execution_count": null,
   "id": "29d274ee",
   "metadata": {},
   "outputs": [],
   "source": [
    "# Enter your code here. Read input from STDIN. Print output to STDOUT\n",
    "import re\n",
    "def is_valid_float(s):\n",
    "    # Regular expression to match a valid floating-point number\n",
    "    float_pattern = r'^[+-]?(\\d+(\\.\\d*)?|\\.\\d+)$'\n",
    "    \n",
    "    # Check if the string matches the float pattern\n",
    "    if re.match(float_pattern, s):\n",
    "        try:\n",
    "            # Try converting to float\n",
    "            float(s)\n",
    "            return True\n",
    "        except ValueError:\n",
    "            return False\n",
    "    return False\n",
    "# Input reading\n",
    "n = int(input())\n",
    "for _ in range(n):\n",
    "    test_string = input().strip()\n",
    "    print(is_valid_float(test_string))\n"
   ]
  },
  {
   "cell_type": "markdown",
   "id": "f0379789",
   "metadata": {},
   "source": [
    "# Re.split()"
   ]
  },
  {
   "cell_type": "code",
   "execution_count": null,
   "id": "c15cc7e4",
   "metadata": {},
   "outputs": [],
   "source": [
    "\t# Do not delete 'r'.\n",
    "regex_pattern = r\"[,.]\"\n"
   ]
  },
  {
   "cell_type": "markdown",
   "id": "c4b3a9d9",
   "metadata": {},
   "source": [
    "# Group(), Groups() & Groupdict()"
   ]
  },
  {
   "cell_type": "code",
   "execution_count": null,
   "id": "8a58fac4",
   "metadata": {},
   "outputs": [],
   "source": [
    "# Enter your code here. Read input from STDIN. Print output to STDOUT\n",
    "import re\n",
    "# Read the input string\n",
    "s = input()\n",
    "# Use regex to find the first occurrence of a repeating alphanumeric character\n",
    "match = re.search(r'([a-zA-Z0-9])\\1', s)\n",
    "# Check if we found a match and print the result\n",
    "if match:\n",
    "    print(match.group(1))  # Print the first repeating character\n",
    "else:\n",
    "    print(-1)  # Print -1 if no repeating characters are found\n"
   ]
  },
  {
   "cell_type": "markdown",
   "id": "288939eb",
   "metadata": {},
   "source": [
    "# Re.findall() & Re.finditer()"
   ]
  },
  {
   "cell_type": "code",
   "execution_count": null,
   "id": "170f0836",
   "metadata": {},
   "outputs": [],
   "source": [
    "# Enter your code here. Read input from STDIN. Print output to STDOUT\n",
    "import re\n",
    "# Read the input string\n",
    "s = input()\n",
    "# Define the regex pattern\n",
    "# This pattern matches substrings that contain 2 or more vowels and are surrounded by consonants\n",
    "pattern = r'(?<=[qwrtypsdfghjklzxcvbnmQWRTYPSDFGHJKLZXCVBNM])([aeiouAEIOU]{2,})(?=[qwrtypsdfghjklzxcvbnmQWRTYPSDFGHJKLZXCVBNM])'\n",
    "# Find all matching substrings\n",
    "matches = re.findall(pattern, s)\n",
    "# Print the results\n",
    "if matches:\n",
    "    print(\"\\n\".join(matches))\n",
    "else:\n",
    "    print(-1)\n"
   ]
  },
  {
   "cell_type": "markdown",
   "id": "56fb2375",
   "metadata": {},
   "source": [
    "# Re.start() & Re.end()"
   ]
  },
  {
   "cell_type": "code",
   "execution_count": null,
   "id": "33ca3382",
   "metadata": {},
   "outputs": [],
   "source": [
    "\n",
    "import re\n",
    "# Read the input strings\n",
    "string = input().strip()  # Main string\n",
    "substring = input().strip()  # Substring to search for\n",
    "# Start position for searching\n",
    "start = 0\n",
    "results = []\n",
    "# Loop to find all occurrences of the substring\n",
    "while True:\n",
    "    # Use re.search to find the next occurrence starting from 'start'\n",
    "    match = re.search(substring, string[start:])\n",
    "    if match:\n",
    "        # Append the start and end indices (adjusting for the overall string)\n",
    "        results.append((start + match.start(), start + match.end() - 1))\n",
    "        # Move the start index to the next character after the current match's start\n",
    "        start += match.start() + 1\n",
    "    else:\n",
    "        break\n",
    "# Check if we found any matches\n",
    "if results:\n",
    "    for result in results:\n",
    "        print(result)\n",
    "else:\n",
    "    print((-1, -1))\n"
   ]
  },
  {
   "cell_type": "markdown",
   "id": "0695cd93",
   "metadata": {},
   "source": [
    "# Matrix Script"
   ]
  },
  {
   "cell_type": "code",
   "execution_count": null,
   "id": "9bd3d8dc",
   "metadata": {},
   "outputs": [],
   "source": [
    "#!/bin/python3\n",
    "import math\n",
    "import os\n",
    "import random\n",
    "import re\n",
    "import sys\n",
    "import re\n",
    "# Read the input dimensions\n",
    "n, m = map(int, input().strip().split())\n",
    "# Read the matrix rows\n",
    "matrix = [input() for _ in range(n)]\n",
    "# Decode the script by reading column-wise\n",
    "decoded_script = ''.join(matrix[j][i] for i in range(m) for j in range(n))\n",
    "# Replace non-alphanumeric characters with space where appropriate\n",
    "decoded_script = re.sub(r'(?<=\\w)[^\\w]+(?=\\w)', ' ', decoded_script)\n",
    "# Print the final result\n",
    "print(decoded_script)\n",
    "\n"
   ]
  },
  {
   "cell_type": "markdown",
   "id": "7ef8d260",
   "metadata": {},
   "source": [
    "# Regex Substitution"
   ]
  },
  {
   "cell_type": "code",
   "execution_count": null,
   "id": "f4ff7797",
   "metadata": {},
   "outputs": [],
   "source": [
    "# Enter your code here. Read input from STDIN. Print output to STDOUT\n",
    "import re\n",
    "# Read the number of lines\n",
    "n = int(input())\n",
    "# Initialize an empty list to hold the lines of text\n",
    "lines = []\n",
    "# Read each line and store it in the list\n",
    "for _ in range(n):\n",
    "    lines.append(input())\n",
    "# Define a function to replace '&&' and '||' with 'and' and 'or'\n",
    "def replace_symbols(text):\n",
    "    # Replace '&&' with 'and'\n",
    "    text = re.sub(r'(?<= )&&(?= )', 'and', text)\n",
    "    # Replace '||' with 'or'\n",
    "    text = re.sub(r'(?<= )\\|\\|(?= )', 'or', text)\n",
    "    return text\n",
    "# Process each line and print the modified text\n",
    "for line in lines:\n",
    "    print(replace_symbols(line))\n"
   ]
  },
  {
   "cell_type": "markdown",
   "id": "887ea73b",
   "metadata": {},
   "source": [
    "# Validating Postal Codes"
   ]
  },
  {
   "cell_type": "code",
   "execution_count": null,
   "id": "3e7b426c",
   "metadata": {},
   "outputs": [],
   "source": [
    "regex_integer_in_range = r\"_________\"\t# Do not delete 'r'.\n",
    "regex_alternating_repetitive_digit_pair = r\"_________\"\t# Do not delete 'r'.\n",
    "import re\n",
    "# Regex for integer in range 100000 to 999999\n",
    "regex_integer_in_range = r'^[1-9][0-9]{5}$'\n",
    "# Regex for alternating repetitive digit pairs\n",
    "regex_alternating_repetitive_digit_pair = r'(?=(\\d)(?=\\d\\1))'\n",
    "# Example postal code input\n",
    "P = input().strip()\n",
    "# Validate the postal code\n",
    "is_valid_postal_code = (bool(re.match(regex_integer_in_range, P)) and \n",
    "                        len(re.findall(regex_alternating_repetitive_digit_pair, P)) < 2)\n",
    "# Output the result\n",
    "print(is_valid_postal_code)\n",
    "\n"
   ]
  },
  {
   "cell_type": "markdown",
   "id": "06821cfc",
   "metadata": {},
   "source": [
    "# Validating UID"
   ]
  },
  {
   "cell_type": "code",
   "execution_count": null,
   "id": "5b118cca",
   "metadata": {},
   "outputs": [],
   "source": [
    "# Enter your code here. Read input from STDIN. Print output to STDOUT\n",
    "import re\n",
    "def is_valid_uid(uid):\n",
    "    # Check the length of the UID\n",
    "    if len(uid) != 10:\n",
    "        return False\n",
    "    \n",
    "    # Check for uppercase letters, digits, and unique characters\n",
    "    upper_case_count = sum(1 for c in uid if c.isupper())\n",
    "    digit_count = sum(1 for c in uid if c.isdigit())\n",
    "    \n",
    "    # Ensure all characters are alphanumeric and check for duplicates\n",
    "    if not uid.isalnum() or len(set(uid)) != len(uid):\n",
    "        return False\n",
    "    \n",
    "    # Check for minimum counts\n",
    "    if upper_case_count < 2 or digit_count < 3:\n",
    "        return False\n",
    "    \n",
    "    return True\n",
    "# Read number of test cases\n",
    "n = int(input())\n",
    "for _ in range(n):\n",
    "    uid = input().strip()\n",
    "    if is_valid_uid(uid):\n",
    "        print(\"Valid\")\n",
    "    else:\n",
    "        print(\"Invalid\")\n"
   ]
  },
  {
   "cell_type": "markdown",
   "id": "b1afaf18",
   "metadata": {},
   "source": [
    "# Validating phone numbers"
   ]
  },
  {
   "cell_type": "code",
   "execution_count": null,
   "id": "cd3a92d4",
   "metadata": {},
   "outputs": [],
   "source": [
    "# Enter your code here. Read input from STDIN. Print output to STDOUT\n",
    "import re\n",
    "# Regular expression pattern for a valid mobile number\n",
    "pattern = r'^[789]\\d{9}$'\n",
    "# Read the number of inputs\n",
    "n = int(input())\n",
    "for _ in range(n):\n",
    "    mobile_number = input().strip()  # Read each mobile number input\n",
    "    # Check if the mobile number matches the pattern\n",
    "    if re.match(pattern, mobile_number):\n",
    "        print(\"YES\")\n",
    "    else:\n",
    "        print(\"NO\")\n"
   ]
  },
  {
   "cell_type": "markdown",
   "id": "2c6f0287",
   "metadata": {},
   "source": [
    "# XML2 - Find the Maximum Depth"
   ]
  },
  {
   "cell_type": "code",
   "execution_count": null,
   "id": "b3ddb576",
   "metadata": {},
   "outputs": [],
   "source": [
    "\n",
    "maxdepth = 0\n",
    "def depth(elem, level):\n",
    "    global maxdepth\n",
    "    # your code goes here\n",
    "    current_level = level + 1\n",
    "    # Update the maximum depth if the current level is greater\n",
    "    if current_level > maxdepth:\n",
    "        maxdepth = current_level\n",
    "    # Recur for each child of the current element\n",
    "    for child in elem:\n",
    "        depth(child, current_level)\n"
   ]
  },
  {
   "cell_type": "markdown",
   "id": "6e5aa5f8",
   "metadata": {},
   "source": [
    "# Validating Credit Card Numbers"
   ]
  },
  {
   "cell_type": "code",
   "execution_count": null,
   "id": "85df7213",
   "metadata": {},
   "outputs": [],
   "source": [
    "# Enter your code here. Read input from STDIN. Print output to STDOUT\n",
    "import re\n",
    "def validate_credit_card(card_number):\n",
    "    # Regular expression for validating credit card numbers\n",
    "    pattern = r'^(?!.*(\\d)(?:-?\\1){3})(?:[4-6]\\d{3}(?:-?\\d{4}){3})$'\n",
    "    return bool(re.match(pattern, card_number))\n",
    "if __name__ == '__main__':\n",
    "    n = int(input())\n",
    "    for _ in range(n):\n",
    "        card_number = input().strip()\n",
    "        if validate_credit_card(card_number):\n",
    "            print('Valid')\n",
    "        else:\n",
    "            print('Invalid')\n"
   ]
  },
  {
   "cell_type": "markdown",
   "id": "72486ec2",
   "metadata": {},
   "source": [
    "# XML 1 - Find the Score"
   ]
  },
  {
   "cell_type": "code",
   "execution_count": null,
   "id": "24003993",
   "metadata": {},
   "outputs": [],
   "source": [
    "\n",
    "def get_attr_number(node):\n",
    "    # your code goes here\n",
    "    count = len(node.attrib)  # Count attributes of the current node\n",
    "    # Iterate over all child nodes\n",
    "    for child in node:\n",
    "        count += get_attr_number(child)  # Add the count of attributes from child nodes\n",
    "    return count  # Return the total count\n"
   ]
  },
  {
   "cell_type": "markdown",
   "id": "7cbcbc7e",
   "metadata": {},
   "source": [
    "# HTML Parser - Part 1"
   ]
  },
  {
   "cell_type": "code",
   "execution_count": null,
   "id": "f2a24aaf",
   "metadata": {},
   "outputs": [],
   "source": [
    "# Enter your code here. Read input from STDIN. Print output to STDOUT\n",
    "from html.parser import HTMLParser\n",
    "class MyHTMLParser(HTMLParser):\n",
    "    def handle_starttag(self, tag, attrs):\n",
    "        print(f\"Start : {tag}\")\n",
    "        # Print attributes if they exist\n",
    "        for attr in attrs:\n",
    "            attr_name, attr_value = attr\n",
    "            print(f\"-> {attr_name} > {attr_value if attr_value else 'None'}\")\n",
    "    def handle_endtag(self, tag):\n",
    "        print(f\"End   : {tag}\")\n",
    "    def handle_startendtag(self, tag, attrs):\n",
    "        print(f\"Empty : {tag}\")\n",
    "        # Print attributes if they exist\n",
    "        for attr in attrs:\n",
    "            attr_name, attr_value = attr\n",
    "            print(f\"-> {attr_name} > {attr_value if attr_value else 'None'}\")\n",
    "    def handle_comment(self, data):\n",
    "        # Ignore comments\n",
    "        pass\n",
    "if __name__ == '__main__':\n",
    "    n = int(input())  # Read number of lines\n",
    "    html = \"\"\n",
    "    for _ in range(n):\n",
    "        html += input().strip()  # Read each line of HTML\n",
    "    parser = MyHTMLParser()\n",
    "    parser.feed(html)  # Feed the HTML to the parser\n"
   ]
  },
  {
   "cell_type": "markdown",
   "id": "81dc2947",
   "metadata": {},
   "source": [
    "# HTML Parser - Part 2"
   ]
  },
  {
   "cell_type": "code",
   "execution_count": null,
   "id": "fd846660",
   "metadata": {},
   "outputs": [],
   "source": [
    "from html.parser import HTMLParser\n",
    "class MyHTMLParser(HTMLParser):\n",
    "    \n",
    "  \n",
    "    def handle_comment(self, data):\n",
    "        # Check if the comment is multiline or single-line\n",
    "        if '\\n' in data:\n",
    "            print(\">>> Multi-line Comment\")\n",
    "            print(data)\n",
    "        else:\n",
    "            print(\">>> Single-line Comment\")\n",
    "            print(data)\n",
    "    def handle_data(self, data):\n",
    "        # Only print data if it is not just whitespace or a newline\n",
    "        if data.strip():\n",
    "            print(\">>> Data\")\n",
    "            print(data)\n",
    "  \n",
    "  \n",
    "html = \"\"       \n",
    "for i in range(int(input())):\n",
    "    html += input().rstrip()\n",
    "    html += '\\n'\n",
    "    \n",
    "parser = MyHTMLParser()\n",
    "parser.feed(html)\n",
    "parser.close()\n"
   ]
  },
  {
   "cell_type": "markdown",
   "id": "fdbaf59e",
   "metadata": {},
   "source": [
    "# Detect HTML Tags, Attributes and Attribute Values"
   ]
  },
  {
   "cell_type": "code",
   "execution_count": null,
   "id": "bd75ae6a",
   "metadata": {},
   "outputs": [],
   "source": [
    "# Enter your code here. Read input from STDIN. Print output to STDOUT\n",
    "from html.parser import HTMLParser\n",
    "class MyHTMLParser(HTMLParser):\n",
    "    def handle_starttag(self, tag, attrs):\n",
    "        # Print the tag name\n",
    "        print(tag)\n",
    "        # Print each attribute with its value\n",
    "        for attr in attrs:\n",
    "            print(f'-> {attr[0]} > {attr[1]}')\n",
    "    def handle_endtag(self, tag):\n",
    "        # We don't need to do anything for end tags\n",
    "        pass\n",
    "    def handle_startendtag(self, tag, attrs):\n",
    "        # Print the tag name for empty tags\n",
    "        print(tag)\n",
    "        # Print each attribute with its value\n",
    "        for attr in attrs:\n",
    "            print(f'-> {attr[0]} > {attr[1]}')\n",
    "# Read input\n",
    "n = int(input())\n",
    "html = \"\"\n",
    "for _ in range(n):\n",
    "    html += input().rstrip() + '\\n'\n",
    "# Create an instance of the parser and feed the HTML data\n",
    "parser = MyHTMLParser()\n",
    "parser.feed(html)\n",
    "parser.close()\n"
   ]
  },
  {
   "cell_type": "markdown",
   "id": "63d1d546",
   "metadata": {},
   "source": [
    "# Validating Roman Numerals"
   ]
  },
  {
   "cell_type": "code",
   "execution_count": null,
   "id": "c972b37c",
   "metadata": {},
   "outputs": [],
   "source": [
    "\n",
    "import re\n",
    "# Regular expression for validating Roman numerals\n",
    "regex_pattern = r\"^M{0,3}(CM|CD|D?C{0,3})(XC|XL|L?X{0,3})(IX|IV|V?I{0,3})$\"\n",
    "\n",
    "# Print the result as True or False\n"
   ]
  },
  {
   "cell_type": "markdown",
   "id": "aa5e5322",
   "metadata": {},
   "source": [
    "# Validating and Parsing Email Addresses"
   ]
  },
  {
   "cell_type": "code",
   "execution_count": null,
   "id": "fee52d97",
   "metadata": {},
   "outputs": [],
   "source": [
    "# Enter your code here. Read input from STDIN. Print output to STDOUT\n",
    "import re\n",
    "import email.utils\n",
    "# Regular expression for validating email addresses\n",
    "email_regex = r'^[a-zA-Z][a-zA-Z0-9._-]*@[a-zA-Z]+\\.[a-zA-Z]{2,5}$'\n",
    "# Read the number of email addresses\n",
    "n = int(input())\n",
    "# Process each name and email\n",
    "for _ in range(n):\n",
    "    line = input().strip()\n",
    "    name, email_address = email.utils.parseaddr(line)  # Parse the name and email address\n",
    "    # Check if the email address is valid\n",
    "    if re.match(email_regex, email_address):\n",
    "        # Print the valid name and email address in the required format\n",
    "        print(f\"{name} <{email_address}>\")\n"
   ]
  },
  {
   "cell_type": "markdown",
   "id": "aa9a5f55",
   "metadata": {},
   "source": [
    "# Arrays"
   ]
  },
  {
   "cell_type": "code",
   "execution_count": null,
   "id": "f9306efc",
   "metadata": {},
   "outputs": [],
   "source": [
    "\n",
    "def arrays(arr):\n",
    "    # complete this function\n",
    "    # use numpy.array\n",
    "       return numpy.array(arr, dtype=float)[::-1]\n"
   ]
  },
  {
   "cell_type": "markdown",
   "id": "6207fa46",
   "metadata": {},
   "source": [
    "# Shape and Reshape"
   ]
  },
  {
   "cell_type": "code",
   "execution_count": null,
   "id": "0b95a54b",
   "metadata": {},
   "outputs": [],
   "source": [
    "import numpy as np\n",
    "input_data = input().strip().split()\n",
    "array_data = list(map(int, input_data))\n",
    "# Create a NumPy array and reshape it to 3x3\n",
    "array_2d = np.array(array_data).reshape(3, 3)\n",
    "# Print the resulting 3x3 array\n",
    "print(array_2d)\n"
   ]
  },
  {
   "cell_type": "markdown",
   "id": "e823908a",
   "metadata": {},
   "source": [
    "# Transpose and Flatten"
   ]
  },
  {
   "cell_type": "code",
   "execution_count": null,
   "id": "b7457f30",
   "metadata": {},
   "outputs": [],
   "source": [
    "import numpy as np\n",
    "n, m = map(int, input().strip().split())\n",
    "# Read the matrix elements\n",
    "matrix = []\n",
    "for _ in range(n):\n",
    "    row = list(map(int, input().strip().split()))\n",
    "    matrix.append(row)\n",
    "# Convert the list of lists into a NumPy array\n",
    "array = np.array(matrix)\n",
    "# Print the transposed array\n",
    "print(np.transpose(array))\n",
    "# Print the flattened array\n",
    "print(array.flatten())\n",
    "\n"
   ]
  },
  {
   "cell_type": "markdown",
   "id": "ddcafe44",
   "metadata": {},
   "source": [
    "# Concatenate"
   ]
  },
  {
   "cell_type": "code",
   "execution_count": null,
   "id": "5ae5f39e",
   "metadata": {},
   "outputs": [],
   "source": [
    "import numpy as np\n",
    "# Read the dimensions of the arrays\n",
    "N, M, P = map(int, input().strip().split())\n",
    "# Initialize the first array\n",
    "array_1 = []\n",
    "for _ in range(N):\n",
    "    row = list(map(int, input().strip().split()))\n",
    "    array_1.append(row)\n",
    "# Initialize the second array\n",
    "array_2 = []\n",
    "for _ in range(M):\n",
    "    row = list(map(int, input().strip().split()))\n",
    "    array_2.append(row)\n",
    "# Convert lists to NumPy arrays\n",
    "array_1 = np.array(array_1)\n",
    "array_2 = np.array(array_2)\n",
    "# Concatenate the arrays along axis 0\n",
    "result = np.concatenate((array_1, array_2), axis=0)\n",
    "# Print the concatenated array\n",
    "print(result)\n"
   ]
  },
  {
   "cell_type": "markdown",
   "id": "8ec712c8",
   "metadata": {},
   "source": [
    "# Zeros and Ones"
   ]
  },
  {
   "cell_type": "code",
   "execution_count": null,
   "id": "518d55ec",
   "metadata": {},
   "outputs": [],
   "source": [
    "import numpy as np\n",
    "# Read the shape from input\n",
    "shape = tuple(map(int, input().strip().split()))\n",
    "# Create a zeros array with the specified shape and integer type\n",
    "zeros_array = np.zeros(shape, dtype=int)\n",
    "# Create a ones array with the specified shape and integer type\n",
    "ones_array = np.ones(shape, dtype=int)\n",
    "# Print the arrays\n",
    "print(zeros_array)\n",
    "print(ones_array)\n"
   ]
  },
  {
   "cell_type": "markdown",
   "id": "a552c1e5",
   "metadata": {},
   "source": [
    "# Eye and Identity"
   ]
  },
  {
   "cell_type": "code",
   "execution_count": null,
   "id": "3efd6bf9",
   "metadata": {},
   "outputs": [],
   "source": [
    "import numpy as np\n",
    "# To align the output properly, set print options\n",
    "np.set_printoptions(legacy='1.13')\n",
    "# Read the dimensions from input\n",
    "n, m = map(int, input().strip().split())\n",
    "# Create an N x M array with zeros\n",
    "array = np.zeros((n, m))\n",
    "# Set the diagonal elements to 1\n",
    "# The np.fill_diagonal function is used to set the diagonal elements\n",
    "np.fill_diagonal(array, 1)\n",
    "# Print the resulting array\n",
    "print(array)\n",
    "\n",
    "\n"
   ]
  },
  {
   "cell_type": "markdown",
   "id": "94d6bb2d",
   "metadata": {},
   "source": [
    "# Array Mathematics"
   ]
  },
  {
   "cell_type": "code",
   "execution_count": null,
   "id": "fc5d727f",
   "metadata": {},
   "outputs": [],
   "source": [
    "\n",
    "import numpy as np\n",
    "# Read the dimensions of the arrays\n",
    "n, m = map(int, input().strip().split())\n",
    "# Read the first array\n",
    "array1 = np.array([list(map(int, input().strip().split())) for _ in range(n)])\n",
    "# Read the second array\n",
    "array2 = np.array([list(map(int, input().strip().split())) for _ in range(n)])\n",
    "# Perform the required operations\n",
    "# Addition\n",
    "add_result = array1 + array2\n",
    "# Subtraction\n",
    "sub_result = array1 - array2\n",
    "# Multiplication\n",
    "mul_result = array1 * array2\n",
    "# Integer Division\n",
    "div_result = np.floor_divide(array1, array2)\n",
    "# Modulus\n",
    "mod_result = array1 % array2\n",
    "# Power\n",
    "pow_result = array1 ** array2\n",
    "# Print the results in the required format\n",
    "print(add_result)\n",
    "print(sub_result)\n",
    "print(mul_result)\n",
    "print(div_result)\n",
    "print(mod_result)\n",
    "print(pow_result)\n",
    "\n"
   ]
  },
  {
   "cell_type": "markdown",
   "id": "fb87c3bb",
   "metadata": {},
   "source": [
    "# Floor, Ceil and Rint"
   ]
  },
  {
   "cell_type": "code",
   "execution_count": null,
   "id": "8cf8dea9",
   "metadata": {},
   "outputs": [],
   "source": [
    "import numpy as np\n",
    "# Read the input array\n",
    "A = np.array(list(map(float, input().strip().split())))\n",
    "# Calculate the floor, ceil, and rint\n",
    "floor_values = np.floor(A)\n",
    "ceil_values = np.ceil(A)\n",
    "rint_values = np.rint(A)\n",
    "# Print the results\n",
    "print(floor_values)\n",
    "print(ceil_values)\n",
    "print(rint_values)\n",
    "\n"
   ]
  },
  {
   "cell_type": "markdown",
   "id": "0e25c303",
   "metadata": {},
   "source": [
    "# Sum and Prod"
   ]
  },
  {
   "cell_type": "code",
   "execution_count": null,
   "id": "96d9ca26",
   "metadata": {},
   "outputs": [],
   "source": [
    "\n",
    "\n",
    "import numpy as np\n",
    "# Step 1: Read input for N and M\n",
    "N, M = map(int, input().split())\n",
    "# Step 2: Read the N lines of input to form the array\n",
    "array = np.array([input().split() for _ in range(N)], int)\n",
    "# Step 3: Compute the sum along axis 0 (column-wise sum)\n",
    "sum_along_axis_0 = np.sum(array, axis=0)\n",
    "# Step 4: Compute the product of the resulting sums\n",
    "result = np.prod(sum_along_axis_0)\n",
    "# Step 5: Print the result\n",
    "print(result)\n"
   ]
  },
  {
   "cell_type": "markdown",
   "id": "49e29da7",
   "metadata": {},
   "source": [
    "# Min and Max"
   ]
  },
  {
   "cell_type": "code",
   "execution_count": null,
   "id": "7bf4d1fa",
   "metadata": {},
   "outputs": [],
   "source": [
    "\n",
    "import numpy as np\n",
    "# Step 1: Read input for N and M\n",
    "N, M = map(int, input().split())\n",
    "# Step 2: Read the N lines of input to form the array\n",
    "array = np.array([input().split() for _ in range(N)], int)\n",
    "# Step 3: Compute the min along axis 1 (row-wise min)\n",
    "min_along_axis_1 = np.min(array, axis=1)\n",
    "# Step 4: Compute the max of the row-wise minimum values\n",
    "result = np.max(min_along_axis_1)\n",
    "# Step 5: Print the result\n",
    "print(result)\n",
    "\n"
   ]
  },
  {
   "cell_type": "markdown",
   "id": "78742c85",
   "metadata": {},
   "source": [
    "# Mean, Var, and Std"
   ]
  },
  {
   "cell_type": "code",
   "execution_count": null,
   "id": "2082336c",
   "metadata": {},
   "outputs": [],
   "source": [
    "\n",
    "import numpy as np\n",
    "# Step 1: Read input for N and M\n",
    "N, M = map(int, input().split())\n",
    "# Step 2: Read the N lines of input to form the array\n",
    "array = np.array([input().split() for _ in range(N)], int)\n",
    "# Step 3: Compute the mean along axis 1 (row-wise mean)\n",
    "mean_along_axis_1 = np.mean(array, axis=1)\n",
    "# Step 4: Compute the variance along axis 0 (column-wise variance)\n",
    "var_along_axis_0 = np.var(array, axis=0)\n",
    "# Step 5: Compute the standard deviation along the entire array\n",
    "std_along_none = np.std(array)\n",
    "# Step 6: Print the results\n",
    "print(mean_along_axis_1)\n",
    "print(var_along_axis_0)\n",
    "print(round(std_along_none, 11))  # Rounded to 11 decimal places as per sample output\n",
    "\n"
   ]
  },
  {
   "cell_type": "markdown",
   "id": "a642dcf1",
   "metadata": {},
   "source": [
    "# Dot and Cross"
   ]
  },
  {
   "cell_type": "code",
   "execution_count": null,
   "id": "c49f8caa",
   "metadata": {},
   "outputs": [],
   "source": [
    "import numpy as np\n",
    "# Step 1: Read input for the size of the matrices\n",
    "N = int(input())\n",
    "# Step 2: Read the next N lines for matrix A\n",
    "A = np.array([list(map(int, input().split())) for _ in range(N)])\n",
    "# Step 3: Read the next N lines for matrix B\n",
    "B = np.array([list(map(int, input().split())) for _ in range(N)])\n",
    "# Step 4: Compute the matrix product\n",
    "result = np.dot(A, B)\n",
    "# Step 5: Print the result\n",
    "print(result)\n",
    "\n"
   ]
  },
  {
   "cell_type": "markdown",
   "id": "5e46dda4",
   "metadata": {},
   "source": [
    "# Inner and Outer"
   ]
  },
  {
   "cell_type": "code",
   "execution_count": null,
   "id": "046bd8a5",
   "metadata": {},
   "outputs": [],
   "source": [
    "\n",
    "import numpy as np\n",
    "# Step 1: Input the elements of array A\n",
    "A = np.array(list(map(int, input().split())))\n",
    "# Step 2: Input the elements of array B\n",
    "B = np.array(list(map(int, input().split())))\n",
    "# Step 3: Compute the inner product\n",
    "inner_product = np.inner(A, B)\n",
    "# Step 4: Compute the outer product\n",
    "outer_product = np.outer(A, B)\n",
    "# Step 5: Print the inner product\n",
    "print(inner_product)\n",
    "# Step 6: Print the outer product\n",
    "print(outer_product)\n",
    "\n"
   ]
  },
  {
   "cell_type": "markdown",
   "id": "256267cd",
   "metadata": {},
   "source": [
    "# Polynomials"
   ]
  },
  {
   "cell_type": "code",
   "execution_count": null,
   "id": "779ebc77",
   "metadata": {},
   "outputs": [],
   "source": [
    "import numpy as np\n",
    "# Step 1: Input the polynomial coefficients\n",
    "coefficients = list(map(float, input().split()))\n",
    "# Step 2: Input the value of x\n",
    "x = float(input())\n",
    "# Step 3: Evaluate the polynomial at x\n",
    "result = np.polyval(coefficients, x)\n",
    "# Step 4: Print the result\n",
    "print(result)\n",
    "\n",
    "\n"
   ]
  },
  {
   "cell_type": "markdown",
   "id": "54b6d191",
   "metadata": {},
   "source": [
    "# Linear Algebra"
   ]
  },
  {
   "cell_type": "code",
   "execution_count": null,
   "id": "320dce9a",
   "metadata": {},
   "outputs": [],
   "source": [
    "import numpy as np\n",
    "# Step 1: Input the size of the square matrix\n",
    "N = int(input())\n",
    "# Step 2: Input the matrix elements\n",
    "matrix = [list(map(float, input().split())) for _ in range(N)]\n",
    "# Step 3: Compute the determinant using np.linalg.det()\n",
    "determinant = np.linalg.det(matrix)\n",
    "# Step 4: Round the determinant to 2 decimal places\n",
    "rounded_determinant = round(determinant, 2)\n",
    "# Step 5: Print the rounded determinant\n",
    "print(rounded_determinant)\n",
    "\n",
    "\n"
   ]
  },
  {
   "cell_type": "markdown",
   "id": "6d309432",
   "metadata": {},
   "source": [
    "# Any or All"
   ]
  },
  {
   "cell_type": "code",
   "execution_count": null,
   "id": "539e0760",
   "metadata": {},
   "outputs": [],
   "source": [
    "# Enter your code here. Read input from STDIN. Print output to STDOUT\n",
    "# Step 1: Input the number of integers N\n",
    "N = int(input())\n",
    "# Step 2: Input the list of integers\n",
    "numbers = list(map(int, input().split()))\n",
    "# Step 3: Check if all integers are positive\n",
    "all_positive = all(num > 0 for num in numbers)\n",
    "# Step 4: Check if any integer is palindromic\n",
    "any_palindromic = any(str(num) == str(num)[::-1] for num in numbers)\n",
    "# Step 5: Print True if all integers are positive and at least one is palindromic\n",
    "print(all_positive and any_palindromic)\n"
   ]
  },
  {
   "cell_type": "markdown",
   "id": "f7eb836d",
   "metadata": {},
   "source": [
    "# Input()"
   ]
  },
  {
   "cell_type": "code",
   "execution_count": null,
   "id": "30621bd6",
   "metadata": {},
   "outputs": [],
   "source": [
    "# Enter your code here. Read input from STDIN. Print output to STDOUT\n",
    "# Step 1: Input the values of x and k\n",
    "x, k = map(int, input().split())\n",
    "# Step 2: Input the polynomial expression\n",
    "polynomial = input()\n",
    "# Step 3: Evaluate the polynomial at x using eval() and check if it equals k\n",
    "# Use eval to substitute x in the polynomial\n",
    "result = eval(polynomial)\n",
    "# Step 4: Compare result with k and print True or False\n",
    "print(result == k)\n"
   ]
  },
  {
   "cell_type": "markdown",
   "id": "bcca1695",
   "metadata": {},
   "source": [
    "# Python Evaluation"
   ]
  },
  {
   "cell_type": "code",
   "execution_count": null,
   "id": "4fda6801",
   "metadata": {},
   "outputs": [],
   "source": [
    "# Enter your code here. Read input from STDIN. Print output to STDOUT\n",
    "# Step 1: Read the input expression\n",
    "expression = input()\n",
    "# Step 2: Evaluate the expression using eval()\n",
    "eval(expression)\n"
   ]
  },
  {
   "cell_type": "markdown",
   "id": "26e24442",
   "metadata": {},
   "source": [
    "# Decorators 2 - Name Directory"
   ]
  },
  {
   "cell_type": "code",
   "execution_count": null,
   "id": "47e9d87c",
   "metadata": {},
   "outputs": [],
   "source": [
    "\n",
    "def person_lister(f):\n",
    "    def inner(people):\n",
    "        # complete the function\n",
    "     \n",
    "        sorted_people = sorted(people, key=lambda person: int(person[2]))\n",
    "        # Apply the name_format function to each sorted person\n",
    "        return [f(person) for person in sorted_people]\n",
    "    return inner\n"
   ]
  },
  {
   "cell_type": "markdown",
   "id": "830d11aa",
   "metadata": {},
   "source": [
    "# Validating Email Addresses With a Filter"
   ]
  },
  {
   "cell_type": "code",
   "execution_count": null,
   "id": "a2816df7",
   "metadata": {},
   "outputs": [],
   "source": [
    "import re\n",
    "def fun(s):\n",
    "    # return True if s is a valid email, else return False\n",
    "       \n",
    "    pattern = r'^[\\w.-]+@[a-zA-Z0-9]+\\.[a-zA-Z]{1,}$'\n",
    "    # Return True if the email matches the pattern\n",
    "    return re.match(pattern, s) is not None\n"
   ]
  },
  {
   "cell_type": "markdown",
   "id": "996ece62",
   "metadata": {},
   "source": [
    "# Birthday Cake Candles"
   ]
  },
  {
   "cell_type": "code",
   "execution_count": null,
   "id": "53c55a8c",
   "metadata": {},
   "outputs": [],
   "source": [
    "#!/bin/python3\n",
    "import math\n",
    "import os\n",
    "import random\n",
    "import re\n",
    "import sys\n",
    "#\n",
    "# Complete the 'birthdayCakeCandles' function below.\n",
    "#\n",
    "# The function is expected to return an INTEGER.\n",
    "# The function accepts INTEGER_ARRAY candles as parameter.\n",
    "#\n",
    "def birthdayCakeCandles(candles):\n",
    "    # Write your code here\n",
    "    # Find the maximum height of the candles\n",
    "    tallest = max(candles)\n",
    "    # Count how many candles have the tallest height\n",
    "    return candles.count(tallest)\n",
    "if __name__ == '__main__':\n",
    "    fptr = open(os.environ['OUTPUT_PATH'], 'w')\n",
    "    candles_count = int(input().strip())\n",
    "    candles = list(map(int, input().rstrip().split()))\n",
    "    result = birthdayCakeCandles(candles)\n",
    "    fptr.write(str(result) + '\\n')\n",
    "    fptr.close()\n"
   ]
  },
  {
   "cell_type": "markdown",
   "id": "de78259d",
   "metadata": {},
   "source": [
    "# Number Line Jumps"
   ]
  },
  {
   "cell_type": "code",
   "execution_count": null,
   "id": "98d6b2c8",
   "metadata": {},
   "outputs": [],
   "source": [
    "#!/bin/python3\n",
    "import math\n",
    "import os\n",
    "import random\n",
    "import re\n",
    "import sys\n",
    "#\n",
    "# Complete the 'kangaroo' function below.\n",
    "#\n",
    "# The function is expected to return a STRING.\n",
    "# The function accepts following parameters:\n",
    "#  1. INTEGER x1\n",
    "#  2. INTEGER v1\n",
    "#  3. INTEGER x2\n",
    "#  4. INTEGER v2\n",
    "#\n",
    "def kangaroo(x1, v1, x2, v2):\n",
    "    # Write your code here\n",
    "    if v1 == v2:\n",
    "        return \"YES\" if x1 == x2 else \"NO\"\n",
    "    \n",
    "    # Calculate if they will land on the same position at the same time\n",
    "    # Use the condition derived above\n",
    "    if (x2 - x1) % (v1 - v2) == 0 and (x2 - x1) / (v1 - v2) >= 0:\n",
    "        return \"YES\"\n",
    "    else:\n",
    "        return \"NO\"\n",
    "if __name__ == '__main__':\n",
    "    fptr = open(os.environ['OUTPUT_PATH'], 'w')\n",
    "    first_multiple_input = input().rstrip().split()\n",
    "    x1 = int(first_multiple_input[0])\n",
    "    v1 = int(first_multiple_input[1])\n",
    "    x2 = int(first_multiple_input[2])\n",
    "    v2 = int(first_multiple_input[3])\n",
    "    result = kangaroo(x1, v1, x2, v2)\n",
    "    fptr.write(result + '\\n')\n",
    "    fptr.close()\n"
   ]
  },
  {
   "cell_type": "markdown",
   "id": "18ea6076",
   "metadata": {},
   "source": [
    "# Viral Advertising"
   ]
  },
  {
   "cell_type": "code",
   "execution_count": null,
   "id": "6202aaa5",
   "metadata": {},
   "outputs": [],
   "source": [
    "#!/bin/python3\n",
    "import math\n",
    "import os\n",
    "import random\n",
    "import re\n",
    "import sys\n",
    "#\n",
    "# Complete the 'viralAdvertising' function below.\n",
    "#\n",
    "# The function is expected to return an INTEGER.\n",
    "# The function accepts INTEGER n as parameter.\n",
    "#\n",
    "def viralAdvertising(n):\n",
    "    # Write your code here\n",
    "    total_likes = 0\n",
    "    people = 5  # initial people seeing the ad\n",
    "    \n",
    "    for day in range(n):\n",
    "        likes_today = people  // 2 \n",
    "        total_likes += likes_today   # accumulate total likes\n",
    "        people = likes_today * 3      # those who liked the ad share with 3 friends each\n",
    "    return total_likes\n",
    "if __name__ == '__main__':\n",
    "    fptr = open(os.environ['OUTPUT_PATH'], 'w')\n",
    "    n = int(input().strip())\n",
    "    result = viralAdvertising(n)\n",
    "    fptr.write(str(result) + '\\n')\n",
    "    fptr.close()\n"
   ]
  },
  {
   "cell_type": "markdown",
   "id": "977f398f",
   "metadata": {},
   "source": [
    "# Recursive Digit Sum"
   ]
  },
  {
   "cell_type": "code",
   "execution_count": null,
   "id": "3fe19bb7",
   "metadata": {},
   "outputs": [],
   "source": [
    "#!/bin/python3\n",
    "import math\n",
    "import os\n",
    "import random\n",
    "import re\n",
    "import sys\n",
    "#\n",
    "# Complete the 'superDigit' function below.\n",
    "#\n",
    "# The function is expected to return an INTEGER.\n",
    "# The function accepts following parameters:\n",
    "#  1. STRING n\n",
    "#  2. INTEGER k\n",
    "#\n",
    "def superDigit(n, k):\n",
    "    # Write your code here\n",
    "    def calculate_super_digit(num):\n",
    "        if len(num) == 1:\n",
    "            return int(num)\n",
    "        else:\n",
    "            digit_sum = sum(int(d) for d in num)\n",
    "            return calculate_super_digit(str(digit_sum))\n",
    "    \n",
    "    # Compute the initial sum of digits in n and multiply by k\n",
    "    initial_sum = sum(int(d) for d in n) * k\n",
    "    \n",
    "    # Compute the super digit of the resulting number\n",
    "    return calculate_super_digit(str(initial_sum))\n",
    "\n",
    "if __name__ == '__main__':\n",
    "    fptr = open(os.environ['OUTPUT_PATH'], 'w')\n",
    "    first_multiple_input = input().rstrip().split()\n",
    "    n = first_multiple_input[0]\n",
    "    k = int(first_multiple_input[1])\n",
    "    result = superDigit(n, k)\n",
    "    fptr.write(str(result) + '\\n')\n",
    "    fptr.close()\n"
   ]
  },
  {
   "cell_type": "markdown",
   "id": "57cd2429",
   "metadata": {},
   "source": [
    "# Insertion Sort - Part 1"
   ]
  },
  {
   "cell_type": "code",
   "execution_count": null,
   "id": "109988d0",
   "metadata": {},
   "outputs": [],
   "source": [
    "#!/bin/python3\n",
    "import math\n",
    "import os\n",
    "import random\n",
    "import re\n",
    "import sys\n",
    "#\n",
    "# Complete the 'insertionSort1' function below.\n",
    "#\n",
    "# The function accepts following parameters:\n",
    "#  1. INTEGER n\n",
    "#  2. INTEGER_ARRAY arr\n",
    "#\n",
    "def insertionSort1(n, arr):\n",
    "    last_element = arr[-1]\n",
    "    \n",
    "    # Start from the second last element\n",
    "    i = n - 2\n",
    "    \n",
    "    # Shift elements until the correct position for last_element is found\n",
    "    while i >= 0 and arr[i] > last_element:\n",
    "        arr[i + 1] = arr[i]  # Shift the element to the right\n",
    "        print(*arr)  # Print the current state of the array\n",
    "        i -= 1\n",
    "    \n",
    "    # Insert the last element in the correct position\n",
    "    arr[i + 1] = last_element\n",
    "    print(*arr)  # Print the final state of the array\n",
    "if __name__ == '__main__':\n",
    "    n = int(input().strip())\n",
    "    arr = list(map(int, input().rstrip().split()))\n",
    "    insertionSort1(n, arr)\n"
   ]
  },
  {
   "cell_type": "markdown",
   "id": "a09ec645",
   "metadata": {},
   "source": [
    "# Insertion Sort - Part 2"
   ]
  },
  {
   "cell_type": "code",
   "execution_count": null,
   "id": "6e809f72",
   "metadata": {},
   "outputs": [],
   "source": [
    "#!/bin/python3\n",
    "import math\n",
    "import os\n",
    "import random\n",
    "import re\n",
    "import sys\n",
    "#\n",
    "# Complete the 'insertionSort2' function below.\n",
    "#\n",
    "# The function accepts following parameters:\n",
    "#  1. INTEGER n\n",
    "#  2. INTEGER_ARRAY arr\n",
    "#\n",
    "def insertionSort2(n, arr):\n",
    "    # Write your code here\n",
    "    # Iterate through the array starting from the second element\n",
    "    for i in range(1, n):\n",
    "        current_value = arr[i]\n",
    "        j = i - 1\n",
    "        \n",
    "        # Shift elements of arr[0..i-1], that are greater than current_value,\n",
    "        # to one position ahead of their current position\n",
    "        while j >= 0 and arr[j] > current_value:\n",
    "            arr[j + 1] = arr[j]\n",
    "            j -= 1\n",
    "        \n",
    "        # Place current_value at its correct position\n",
    "        arr[j + 1] = current_value\n",
    "        \n",
    "        # Print the current state of the array after each insertion\n",
    "        print(*arr)\n",
    "if __name__ == '__main__':\n",
    "    n = int(input().strip())\n",
    "    arr = list(map(int, input().rstrip().split()))\n",
    "    insertionSort2(n, arr)\n"
   ]
  }
 ],
 "metadata": {},
 "nbformat": 4,
 "nbformat_minor": 5
}
